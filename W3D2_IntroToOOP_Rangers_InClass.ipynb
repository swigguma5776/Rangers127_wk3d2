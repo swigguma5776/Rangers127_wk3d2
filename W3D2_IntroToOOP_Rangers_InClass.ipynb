{
 "cells": [
  {
   "cell_type": "markdown",
   "metadata": {},
   "source": [
    "# Object-Oriented-Programming (OOP)"
   ]
  },
  {
   "cell_type": "markdown",
   "metadata": {},
   "source": [
    "## Tasks Today:\n",
    "\n",
    "   \n",
    "\n",
    "1) <b>Creating a Class (Initializing/Declaring)</b> <br>\n",
    "2) <b>Using a Class (Instantiating)</b> <br>\n",
    " &nbsp;&nbsp;&nbsp;&nbsp; a) Creating One Instance <br>\n",
    " &nbsp;&nbsp;&nbsp;&nbsp; b) Creating Multiple Instances <br>\n",
    " &nbsp;&nbsp;&nbsp;&nbsp; c) In-Class Exercise #1 - Create a Class 'Car' and instantiate three different makes of cars <br>\n",
    "3) <b>The \\__init\\__() Method</b> <br>\n",
    " &nbsp;&nbsp;&nbsp;&nbsp; a) The 'self' Attribute <br>\n",
    "4) <b>Class Attributes</b> <br>\n",
    " &nbsp;&nbsp;&nbsp;&nbsp; a) Initializing Attributes <br>\n",
    " &nbsp;&nbsp;&nbsp;&nbsp; b) Setting an Attribute Outside of the \\__init\\__() Method <br>\n",
    " &nbsp;&nbsp;&nbsp;&nbsp; c) Setting Defaults for Attributes <br>\n",
    " &nbsp;&nbsp;&nbsp;&nbsp; d) Accessing Class Attributes <br>\n",
    " &nbsp;&nbsp;&nbsp;&nbsp; e) Changing Class Attributes <br>\n",
    " &nbsp;&nbsp;&nbsp;&nbsp; f) In-Class Exercise #2 - Add a color and wheels attribute to your 'Car' class <br>\n",
    "5) <b>Class Methods</b> <br>\n",
    " &nbsp;&nbsp;&nbsp;&nbsp; a) Creating <br>\n",
    " &nbsp;&nbsp;&nbsp;&nbsp; b) Calling <br>\n",
    " &nbsp;&nbsp;&nbsp;&nbsp; c) Modifying an Attribute's Value Through a Method <br>\n",
    " &nbsp;&nbsp;&nbsp;&nbsp; d) Incrementing an Attribute's Value Through a Method <br>\n",
    " &nbsp;&nbsp;&nbsp;&nbsp; e) In-Class Exercise #3 - Add a method that prints the cars color and wheel number, then call them <br>\n",
    "6) <b>Inheritance</b> <br>\n",
    " &nbsp;&nbsp;&nbsp;&nbsp; a) Syntax for Inheriting from a Parent Class <br>\n",
    " &nbsp;&nbsp;&nbsp;&nbsp; b) The \\__init\\__() Method for a Child Class (super()) <br>\n",
    " &nbsp;&nbsp;&nbsp;&nbsp; c) Defining Attributes and Methods for the Child Class <br>\n",
    " &nbsp;&nbsp;&nbsp;&nbsp; d) Method Overriding <br>\n",
    " &nbsp;&nbsp;&nbsp;&nbsp; e) In-Class Exercise #4 - Create a class 'Ford' that inherits from 'Car' class and initialize it as a Blue Ford Explorer with 4 wheels using the super() method <br>\n",
    "7) <b>Encapsulation</b> <br>\n",
    " &nbsp;&nbsp;&nbsp;&nbsp; a) Public Access Modifier <br>\n",
    " &nbsp;&nbsp;&nbsp;&nbsp; b) Protected Access Modifier <br>\n",
    " &nbsp;&nbsp;&nbsp;&nbsp; c) Private Access Modifier <br>\n",
    "8) <b>Classes as Attributes</b> <br>\n",
    "9) <b>Exercises</b> <br>\n",
    " &nbsp;&nbsp;&nbsp;&nbsp; a) Exercise #1 - Turn the shopping cart program from last week into an object-oriented program <br>"
   ]
  },
  {
   "cell_type": "markdown",
   "metadata": {},
   "source": [
    "## Creating a Class (Initializing/Declaring)\n",
    "<p>When creating a class, function, or even a variable you are initializing that object. Initializing and Declaring occur at the same time in Python, whereas in lower level languages you have to declare an object before initializing it. This is the first step in the process of using a class.</p>"
   ]
  },
  {
   "cell_type": "code",
   "execution_count": 2,
   "metadata": {},
   "outputs": [],
   "source": [
    "#utilizinge that class keyword and then PascalCase the class name. \n",
    "\n",
    "class Car():\n",
    "    \n",
    "    #create some class attributes\n",
    "    wheels = 4\n",
    "    color = 'blue'\n",
    "    "
   ]
  },
  {
   "cell_type": "markdown",
   "metadata": {},
   "source": [
    "## Using a Class (Instantiating)\n",
    "<p>The process of creating a class is called <i>Instantiating</i>. Each time you create a variable of that type of class, it is referred to as an <i>Instance</i> of that class. This is the second step in the process of using a class.</p>"
   ]
  },
  {
   "cell_type": "markdown",
   "metadata": {},
   "source": [
    "##### Creating One Instance"
   ]
  },
  {
   "cell_type": "code",
   "execution_count": 6,
   "metadata": {
    "scrolled": true
   },
   "outputs": [
    {
     "name": "stdout",
     "output_type": "stream",
     "text": [
      "4\n",
      "blue\n",
      "{'__module__': '__main__', 'wheels': 4, 'color': 'blue', '__dict__': <attribute '__dict__' of 'Car' objects>, '__weakref__': <attribute '__weakref__' of 'Car' objects>, '__doc__': None}\n"
     ]
    }
   ],
   "source": [
    "ford = Car()\n",
    "print(ford.wheels)\n",
    "print(ford.color)\n",
    "\n",
    "print(Car.__dict__)\n",
    "    "
   ]
  },
  {
   "cell_type": "markdown",
   "metadata": {},
   "source": [
    "##### Creating Multiple Instances"
   ]
  },
  {
   "cell_type": "code",
   "execution_count": 9,
   "metadata": {},
   "outputs": [
    {
     "name": "stdout",
     "output_type": "stream",
     "text": [
      "blue\n",
      "blue\n"
     ]
    }
   ],
   "source": [
    "honda = Car() #objects\n",
    "mazda = Car() #objects\n",
    "subaru = Car() #objects \n",
    "\n",
    "print(mazda.color)\n",
    "print(subaru.color)"
   ]
  },
  {
   "cell_type": "markdown",
   "metadata": {},
   "source": [
    "##### In-Class Exercise #1 - Create a Class 'Car' and Instantiate three different makes of cars"
   ]
  },
  {
   "cell_type": "code",
   "execution_count": 23,
   "metadata": {},
   "outputs": [],
   "source": [
    "class Car():\n",
    "\n",
    "    wheels = 4 #makes more sense as class attribute \n",
    "    \n",
    "    def __init__(self, manufacturer, model, year, color):\n",
    "        self.make = manufacturer \n",
    "        self.model = model\n",
    "        self.year = year\n",
    "        self.color = color"
   ]
  },
  {
   "cell_type": "code",
   "execution_count": 21,
   "metadata": {},
   "outputs": [],
   "source": [
    "jeep = Car('Jeep', 'Grand Cherokee', 2005, 'white')"
   ]
  },
  {
   "cell_type": "code",
   "execution_count": 22,
   "metadata": {},
   "outputs": [
    {
     "name": "stdout",
     "output_type": "stream",
     "text": [
      "Grand Cherokee\n",
      "2005\n"
     ]
    }
   ],
   "source": [
    "print(jeep.model)\n",
    "print(jeep.year)"
   ]
  },
  {
   "cell_type": "markdown",
   "metadata": {},
   "source": [
    "## The \\__init\\__() Method <br>\n",
    "<p>This method is used in almost every created class, and called only once upon the creation of the class instance. This method will initialize all variables needed for the object.</p>"
   ]
  },
  {
   "cell_type": "code",
   "execution_count": 54,
   "metadata": {},
   "outputs": [],
   "source": [
    "class Car():\n",
    "    \n",
    "    engine = True #class attribute \n",
    "    \n",
    "    def __init__(self, wheels, color, doors): #special method \n",
    "        self.wheels = wheels #object attributes\n",
    "        self.color = color #object attributes\n",
    "        self.doors = doors #object attributes"
   ]
  },
  {
   "cell_type": "code",
   "execution_count": 55,
   "metadata": {},
   "outputs": [
    {
     "name": "stdout",
     "output_type": "stream",
     "text": [
      "red\n",
      "tan\n",
      "True\n",
      "True\n"
     ]
    }
   ],
   "source": [
    "ford = Car(4, 'red', 2)\n",
    "mazda = Car(4, 'black', 2)\n",
    "subaru = Car(4, 'tan', 4)\n",
    "\n",
    "print(ford.color)\n",
    "print(subaru.color)\n",
    "\n",
    "print(ford.engine)\n",
    "print(subaru.engine)"
   ]
  },
  {
   "cell_type": "markdown",
   "metadata": {},
   "source": [
    "##### The 'self' Attribute <br>\n",
    "<p>This attribute is required to keep track of specific instance's attributes. Without the self attribute, the program would not know how to reference or keep track of an instance's attributes.</p>"
   ]
  },
  {
   "cell_type": "code",
   "execution_count": 29,
   "metadata": {},
   "outputs": [
    {
     "name": "stdout",
     "output_type": "stream",
     "text": [
      "Charmander\n",
      "This is Charmander. It is a fire type\n"
     ]
    }
   ],
   "source": [
    "class Pokemon():\n",
    "    \n",
    "    def  __init__(self, name, type_):\n",
    "        self.name = name\n",
    "        self.type_ = type_\n",
    "        \n",
    "    def print_info(self):\n",
    "        print(f\"This is {self.name}. It is a {self.type_} type\")\n",
    "        \n",
    "        \n",
    "#instantiated object            #class aka blueprint \n",
    "charmander          =           Pokemon('Charmander', 'fire')\n",
    "print(charmander.name)\n",
    "\n",
    "charmander.print_info() #dot method. aka a function specific to that object/class type "
   ]
  },
  {
   "cell_type": "markdown",
   "metadata": {},
   "source": [
    "## Class Attributes <br>\n",
    "<p>While variables are inside of a class, they are referred to as attributes and not variables. When someone says 'attribute' you know they're speaking about a class. Attributes can be initialized through the init method, or outside of it.</p>"
   ]
  },
  {
   "cell_type": "markdown",
   "metadata": {},
   "source": [
    "##### Initializing Attributes"
   ]
  },
  {
   "cell_type": "code",
   "execution_count": 30,
   "metadata": {},
   "outputs": [],
   "source": [
    "bulbasaur = Pokemon(\"Bulbasaur\", \"Grass\")"
   ]
  },
  {
   "cell_type": "markdown",
   "metadata": {},
   "source": [
    "##### Accessing Class Attributes"
   ]
  },
  {
   "cell_type": "code",
   "execution_count": 33,
   "metadata": {
    "scrolled": true
   },
   "outputs": [
    {
     "name": "stdout",
     "output_type": "stream",
     "text": [
      "Bulbasaur\n",
      "Grass\n",
      "{'name': 'Bulbasaur', 'type_': 'Grass'}\n"
     ]
    }
   ],
   "source": [
    "print(bulbasaur.name) #accessing specific attributes\n",
    "print(bulbasaur.type_)\n",
    "\n",
    "print(bulbasaur.__dict__) #accessing all your attributes inside your __init__() method"
   ]
  },
  {
   "cell_type": "markdown",
   "metadata": {},
   "source": [
    "##### Setting Defaults for Attributes"
   ]
  },
  {
   "cell_type": "code",
   "execution_count": 39,
   "metadata": {},
   "outputs": [
    {
     "name": "stdout",
     "output_type": "stream",
     "text": [
      "4\n",
      "Blue\n"
     ]
    }
   ],
   "source": [
    "#two ways of setting default attributes aka parameters \n",
    "\n",
    "class Car():\n",
    "    \n",
    "    def __init__(self):\n",
    "        self.wheels = 4\n",
    "        self.color = 'Blue' #one of way of setting default attributes when you don't want the option to instantiate\n",
    "                            #with them \n",
    "            \n",
    "            \n",
    "honda = Car()\n",
    "\n",
    "print(honda.wheels)\n",
    "print(honda.color)"
   ]
  },
  {
   "cell_type": "code",
   "execution_count": 45,
   "metadata": {},
   "outputs": [
    {
     "name": "stdout",
     "output_type": "stream",
     "text": [
      "Blue\n",
      "Red\n"
     ]
    }
   ],
   "source": [
    "\n",
    "class Car():\n",
    "    \n",
    "    def __init__(self, color, wheels =4): #default attributes if you want the option to instantiate with them\n",
    "        self.wheels = wheels\n",
    "        self.color = color\n",
    "        \n",
    "        \n",
    "ford = Car('Blue')\n",
    "\n",
    "subaru = Car('Red', 6)\n",
    "\n",
    "print(ford.color)\n",
    "print(subaru.color)"
   ]
  },
  {
   "cell_type": "markdown",
   "metadata": {},
   "source": [
    "##### Changing Class Attributes <br>\n",
    "<p>Keep in mind there are global class attributes and then there are attributes only available to each class instance which won't effect other classes.</p>"
   ]
  },
  {
   "cell_type": "code",
   "execution_count": 46,
   "metadata": {},
   "outputs": [],
   "source": [
    "#all variables inside of classes are local to that class. They are accessible anywhere inside that class \n",
    "\n",
    "class Car():\n",
    "    \n",
    "    TYPE = 'car' #class attribute but it's also a constant denoted by all caps \n",
    "    \n",
    "    def __init__(self, wheels): #instance attributes (can/will be different for each instance of that class)\n",
    "        self.wheels = wheels\n",
    "        self.color = 'Blue'"
   ]
  },
  {
   "cell_type": "code",
   "execution_count": 47,
   "metadata": {},
   "outputs": [],
   "source": [
    "honda = Car(4)"
   ]
  },
  {
   "cell_type": "markdown",
   "metadata": {},
   "source": [
    "##### In-Class Exercise #2 - Add two new attributes to your 'Car' class then print out two different instances with different doors and seats. Then take that bad boy to the shop and change those attributes. Either with an input or just by changing them"
   ]
  },
  {
   "cell_type": "code",
   "execution_count": 60,
   "metadata": {},
   "outputs": [
    {
     "name": "stdout",
     "output_type": "stream",
     "text": [
      "black\n",
      "What is the new color of your car? white\n",
      "white\n",
      "My Ford Escape is grey with 4 doors and 5 seats\n"
     ]
    }
   ],
   "source": [
    "class Car():\n",
    "    \n",
    "    wheels = 4\n",
    "    \n",
    "    def __init__(self, make, model, year, color, doors = 4, seats = 5):\n",
    "        self.make = make\n",
    "        self.model = model\n",
    "        self.year = year\n",
    "        self.color = color\n",
    "        self.doors = doors\n",
    "        self.seats = seats \n",
    "        \n",
    "    def change_color(self): #changing attributes by utilizing a method inside of a class \n",
    "        color = input('What is the new color of your car? ')\n",
    "        self.color = color\n",
    "        \n",
    "honda = Car('Honda', 'CRV', 2023, 'black')\n",
    "print(honda.color)\n",
    "# honda.color = 'white'\n",
    "# print(honda.color)\n",
    "\n",
    "# honda.change_color()\n",
    "print(honda.color)\n",
    "\n",
    "ford = Car(\"Ford\", 'Escape', 2020, 'grey')\n",
    "print(f\"My {ford.make} {ford.model} is {ford.color} with {ford.doors} doors and {ford.seats} seats\")"
   ]
  },
  {
   "cell_type": "markdown",
   "metadata": {},
   "source": [
    "## Class Methods <br>\n",
    "<p>While inside of a class, functions are referred to as 'methods'. If you hear someone mention methods, they're speaking about classes. Methods are essentially functions, but only callable on the instances of a class.</p>"
   ]
  },
  {
   "cell_type": "markdown",
   "metadata": {},
   "source": [
    "##### Creating"
   ]
  },
  {
   "cell_type": "code",
   "execution_count": 67,
   "metadata": {},
   "outputs": [],
   "source": [
    "class Bus():\n",
    "    \n",
    "    \"\"\"\n",
    "    class Bus will have the following attributes: doors, seats, seats available, color, and bus driver\n",
    "    \n",
    "    Attribute Types:\n",
    "    -doors: integer\n",
    "    -seats: integer\n",
    "    -seats_available: integer\n",
    "    -color: string\n",
    "    -bus_driver: string\n",
    "    \n",
    "    \"\"\"\n",
    "    \n",
    "    bus_id = 0 #starting to get into how we uniquely identify our objects \n",
    "    \n",
    "    def __init__(self, doors, seats, seats_available, color, bus_driver):\n",
    "        self.doors = doors\n",
    "        self.seats = seats\n",
    "        self.seats_available = seats_available\n",
    "        self.color = color\n",
    "        self.bus_driver = bus_driver\n",
    "        bus_id += 1 \n",
    "        \n",
    "        \n",
    "    #drecrement the number of seats available when  someone comes  on the bus\n",
    "    def load_passengers(self): \n",
    "        \n",
    "        if self.seats_available <= 0: \n",
    "            print(\"This bus is full! We can't take any more passengers. Sorry :(\")\n",
    "            \n",
    "        else:\n",
    "            while True:\n",
    "                passengers = int(input(\"How many passengers are getting on today? \"))\n",
    "                if self.seats_available - passengers < 0: \n",
    "                    print(\"You are trying to load too many passengers.\")\n",
    "                else:\n",
    "                    self.seats_available -= passengers\n",
    "                    break\n",
    "                \n",
    "        print(f\"{passengers} passengers have boarded. There are {self.seats_available} seats left on the bus!\")\n",
    "        \n",
    "        \n",
    "    #increment the number of seats available when someone gets off bus\n",
    "    def unload_passengers(self): \n",
    "        if self.seats_available >= self.seats: \n",
    "            print(\"There is no on eon the bus to unload!\")\n",
    "            self.seats_available = self.seats\n",
    "        else:\n",
    "            unload = int(input(\"How many passengers are getting off the bus? \"))\n",
    "            self.seats_available += unload\n",
    "            if self.seats_available >= self.seats:\n",
    "                self.seats_available = self.seats\n",
    "                \n",
    "        print(f\"{unload} passengers have left the bus. There are {self.seats_available} seats left on the bus!\")\n",
    "              \n",
    "              \n",
    "    #change the bus driver \n",
    "    def change_driver(self):\n",
    "        change = input(\"Who is replacing the bus driver? \")\n",
    "        self.bus_driver = change \n",
    "        print(f\"The new bus driver is {self.bus_driver}. Be sure to thank them & tip! \")\n",
    "        \n",
    "    #display available seats\n",
    "    def check_seats(self):\n",
    "        print(f\"There are {self.seats_available} seats available on this bus! \")\n",
    "        \n",
    "    #display bus color\n",
    "    def admire_bus(self):\n",
    "        print(f\"Would ya look this beautiful {self.color} bus! Just look at it!!! \")\n",
    "            "
   ]
  },
  {
   "cell_type": "markdown",
   "metadata": {},
   "source": [
    "##### Calling"
   ]
  },
  {
   "cell_type": "code",
   "execution_count": 73,
   "metadata": {},
   "outputs": [
    {
     "name": "stdout",
     "output_type": "stream",
     "text": [
      "Welcome to our bus garage. What is your name? Alex\n",
      "How many seats are on your bus? 50\n",
      "How many doors on your bus? 2\n",
      "What is the color of your bus? blue\n",
      "What would you like to do today? Load/Unload/Change Driver/Check Seats/Admire/Quit? quit\n",
      "Oh no! There are still passengers to be picked up! Don't leave them hanging\n"
     ]
    }
   ],
   "source": [
    "def run():\n",
    "    \n",
    "#     alex_bus = Bus(2, 100, 100, 'red', 'Alex')\n",
    "\n",
    "    name = input('Welcome to our bus garage. What is your name? ')\n",
    "    seats = int(input('How many seats are on your bus? '))\n",
    "    doors = int(input('How many doors on your bus? '))\n",
    "    color = input('What is the color of your bus? ')\n",
    "    \n",
    "    jason = Bus(doors, seats, seats, color, name)\n",
    "    \n",
    "#     print(bus.__dict__)\n",
    "\n",
    "#     jason.seats = 60\n",
    "    \n",
    "    while True: \n",
    "        response = input(\"What would you like to do today? Load/Unload/Change Driver/Check Seats/Admire/Quit? \").lower().strip()\n",
    "        \n",
    "        if response == 'quit':\n",
    "            print(\"Oh no! There are still passengers to be picked up! Don't leave them hanging\")\n",
    "            break\n",
    "        elif response == 'load':\n",
    "            print(bus.seats_available)\n",
    "            jason.load_passengers()\n",
    "\n",
    "        elif response == 'unload':\n",
    "            jason.unload_passengers()\n",
    "        elif response in {'change', 'change driver'}:\n",
    "            jason.change_driver()\n",
    "        elif response in {'check', 'check seats'}:\n",
    "            jason.check_seats()\n",
    "        elif response == 'admire':\n",
    "            jason.admire_bus()\n",
    "        else:\n",
    "            print('Not a valid response. Please try again!')\n",
    "            \n",
    "run()"
   ]
  },
  {
   "cell_type": "markdown",
   "metadata": {},
   "source": [
    "##### Modifying an Attribute's Value Through a Method"
   ]
  },
  {
   "cell_type": "code",
   "execution_count": null,
   "metadata": {},
   "outputs": [],
   "source": [
    "# see above\n",
    "# load_passengers()\n",
    "# unload_passengers()\n",
    "# change_driver()"
   ]
  },
  {
   "cell_type": "markdown",
   "metadata": {},
   "source": [
    "##### Incrementing an Attribute's Value Through a Method"
   ]
  },
  {
   "cell_type": "code",
   "execution_count": null,
   "metadata": {},
   "outputs": [],
   "source": [
    "#unload_passengers()"
   ]
  },
  {
   "cell_type": "markdown",
   "metadata": {},
   "source": [
    "##### In-Class Exercise #3 - Add a method that takes in three parameters of year, doors and seats and prints out a formatted print statement with make, model, year, seats, and doors"
   ]
  },
  {
   "cell_type": "code",
   "execution_count": 82,
   "metadata": {},
   "outputs": [
    {
     "name": "stdout",
     "output_type": "stream",
     "text": [
      "Honda\n",
      "CRV\n",
      "This car is a Honda CRV\n",
      "This car is a Subaru Outback\n"
     ]
    }
   ],
   "source": [
    "# Create class with 2 paramters inside of the __init__ which are make and model, more if you'd like\n",
    "\n",
    "# Create two methods for your class\n",
    "\n",
    "# Create a method that alters an attribute for your class\n",
    "\n",
    "# Display method that prints information about the vehicle\n",
    "\n",
    "# Output: This car is from 2019 and is a Ford Expolorer and has 4 doors and 5 seats\n",
    "\n",
    "# reminder in order to call class methods object.method()\n",
    "\n",
    "\n",
    "class Car():\n",
    "\n",
    "    def __init__(self, make, model):\n",
    "        self.make = make \n",
    "        self.model = model \n",
    "        \n",
    "    def change_make(self):\n",
    "        make = input(\"What is the new make of your car? \")\n",
    "        self.make = make \n",
    "        \n",
    "    def display(self):         #before the . is the identity of the object\n",
    "        print(f\"This car is a {self.make} {self.model}\")\n",
    "        \n",
    "                               #self references the object from which we are calling the method on \n",
    "\n",
    "\n",
    "honda = Car(\"Honda\", \"CRV\")\n",
    "print(honda.make)\n",
    "print(honda.model)\n",
    "\n",
    "\n",
    "# honda.change_make()\n",
    "honda.display()\n",
    "\n",
    "alex_car = Car('Subaru', 'Outback')\n",
    "\n",
    "alex_car.display()"
   ]
  },
  {
   "cell_type": "markdown",
   "metadata": {},
   "source": [
    "## Inheritance <br>\n",
    "<p>You can create a child-parent relationship between two classes by using inheritance. What this allows you to do is have overriding methods, but also inherit traits from the parent class. Think of it as an actual parent and child, the child will inherit the parent's genes, as will the classes in OOP</p>"
   ]
  },
  {
   "cell_type": "markdown",
   "metadata": {},
   "source": [
    "##### Syntax for Inheriting from a Parent Class"
   ]
  },
  {
   "cell_type": "code",
   "execution_count": 83,
   "metadata": {},
   "outputs": [],
   "source": [
    "#creation of a parent class\n",
    "\n",
    "class Animal(): \n",
    "    \n",
    "    ACCELERATION = 9.8 #constant class attribute\n",
    "    \n",
    "    def __init__(self, name, species, legs = 4):\n",
    "        self.name = name\n",
    "        self.species = species\n",
    "        self.legs = legs \n",
    "        \n",
    "    #generic parent method\n",
    "    def make_sound(self):\n",
    "        print(\"REEEEEEEEEE\")"
   ]
  },
  {
   "cell_type": "markdown",
   "metadata": {},
   "source": [
    "##### The \\__init\\__() Method for a Child Class - super()"
   ]
  },
  {
   "cell_type": "code",
   "execution_count": 101,
   "metadata": {
    "scrolled": true
   },
   "outputs": [
    {
     "name": "stdout",
     "output_type": "stream",
     "text": [
      "Lassy accelerates at 9.8 and has 3 legs\n",
      "REEEEEEEEEE\n",
      "blue\n"
     ]
    }
   ],
   "source": [
    "#creation of child class inheriting from parent class\n",
    "\n",
    "class Dog(Animal):\n",
    "    \n",
    "    def __init__(self, name, eye_color, species = \"Dog\", legs = 4):\n",
    "        super().__init__(name, species, legs)\n",
    "        self.eye_color = eye_color\n",
    "        \n",
    "    def print_info(self):\n",
    "        print(f\"{self.name} accelerates at {self.ACCELERATION} and has {self.legs} legs\")\n",
    "        \n",
    "        \n",
    "        \n",
    "lassy = Dog('Lassy', 'blue', legs = 3)\n",
    "lassy.print_info()\n",
    "lassy.make_sound()\n",
    "print(lassy.eye_color)\n",
    "# lassy.nickname"
   ]
  },
  {
   "cell_type": "code",
   "execution_count": 116,
   "metadata": {},
   "outputs": [
    {
     "name": "stdout",
     "output_type": "stream",
     "text": [
      "Bark Bark Bark\n",
      "henri also known as mooshies is crazy fast at 9.8 speed and has Mutt colored eyes\n",
      "mooshies\n"
     ]
    }
   ],
   "source": [
    "class Mutt(Dog):\n",
    "    \n",
    "    def __init__(self, name, nickname, species = \"Mutt\"):\n",
    "        super().__init__(name, species)\n",
    "        self.nickname = nickname\n",
    "        \n",
    "        \n",
    "    #override methods from one class to the next (Idea of polymorphism aka many forms)\n",
    "    def make_sound(self):\n",
    "        print(\"Bark Bark Bark\")\n",
    "        \n",
    "    #override method \n",
    "    def print_info(self):\n",
    "        print(f\"{self.name} also known as {self.nickname} is crazy fast at {self.ACCELERATION} speed and has {self.eye_color} colored eyes\")\n",
    "\n",
    "\n",
    "henri = Mutt('henri', 'mooshies')\n",
    "henri.make_sound()\n",
    "henri.print_info()\n",
    "print(henri.nickname)\n",
    "    "
   ]
  },
  {
   "cell_type": "markdown",
   "metadata": {},
   "source": [
    "##### Defining Attributes and Methods for the Child Class"
   ]
  },
  {
   "cell_type": "code",
   "execution_count": null,
   "metadata": {},
   "outputs": [],
   "source": [
    "# See Above"
   ]
  },
  {
   "cell_type": "markdown",
   "metadata": {},
   "source": [
    "##### Method Overriding"
   ]
  },
  {
   "cell_type": "code",
   "execution_count": null,
   "metadata": {},
   "outputs": [],
   "source": [
    "# See Above"
   ]
  },
  {
   "cell_type": "markdown",
   "metadata": {},
   "source": [
    "## Encapsulation\n"
   ]
  },
  {
   "cell_type": "markdown",
   "metadata": {},
   "source": [
    "<p>Encapsulation is one of the fundamental concepts in object-oriented programming (OOP). It describes the idea of wrapping data and the methods that work on data within one unit. This puts restrictions on accessing variables and methods directly and can prevent the accidental modification of data. f"
   ]
  },
  {
   "cell_type": "markdown",
   "metadata": {},
   "source": [
    "### Access Modifiers\n"
   ]
  },
  {
   "cell_type": "markdown",
   "metadata": {},
   "source": [
    "#### Public\n",
    "<p> Attributes & methods default to public in classes. Meaning they can be accessed from anywhere. "
   ]
  },
  {
   "cell_type": "code",
   "execution_count": 1,
   "metadata": {},
   "outputs": [],
   "source": [
    "#see above. All attributes & methods in the previous examples are public"
   ]
  },
  {
   "cell_type": "markdown",
   "metadata": {},
   "source": [
    "#### Protected \n",
    "<p>Protected attributes are denoted with a singular '_' underscore. Attributes & methods that are protected are only accessible in the class it derived from and any inherited classes. "
   ]
  },
  {
   "cell_type": "code",
   "execution_count": 120,
   "metadata": {},
   "outputs": [
    {
     "name": "stdout",
     "output_type": "stream",
     "text": [
      "Dog\n"
     ]
    }
   ],
   "source": [
    "class Animal():\n",
    "    \n",
    "    ACCELERATION = 9.8\n",
    "    \n",
    "    def __init__(self, name, species, legs = 4):\n",
    "        self.name = name\n",
    "        self._species = species\n",
    "        self.legs = legs\n",
    "        \n",
    "    def display_species(self):\n",
    "        \n",
    "        return self._species \n",
    "        \n",
    "        \n",
    "class Dog(Animal):\n",
    "    \n",
    "    def __init__(self, name, species = 'Dog'): \n",
    "        super().__init__(name, species)\n",
    "        \n",
    "        \n",
    "    #method override and I can change the rules as to how to access this attribute \n",
    "    def display_species(self):\n",
    "        \n",
    "        return self._species #protected variables can be accessed in classes \n",
    "                             #they derive from but also any inherited class\n",
    "    \n",
    "    \n",
    "eyo = Dog('Eyo')\n",
    "eyo.display_species()\n",
    "\n",
    "print(eyo._species) #python makes rules but doesnt necessarily enforce them DONT DO THIS!!!!! "
   ]
  },
  {
   "cell_type": "markdown",
   "metadata": {},
   "source": [
    "#### Private \n",
    "<p>Private attributes are denoted with a double '__' underscore. Attributes & methods that are private are only accessible in the class it was derived from making them the most secure. "
   ]
  },
  {
   "cell_type": "code",
   "execution_count": 122,
   "metadata": {},
   "outputs": [
    {
     "data": {
      "text/plain": [
       "'Dog'"
      ]
     },
     "execution_count": 122,
     "metadata": {},
     "output_type": "execute_result"
    }
   ],
   "source": [
    "class Animal():\n",
    "    \n",
    "    ACCELERATION = 9.8\n",
    "    \n",
    "    def __init__(self, name, species, legs = 4):\n",
    "        self.name = name\n",
    "        self.__species = species\n",
    "        self.legs = legs\n",
    "        \n",
    "        \n",
    "    #method can only exist in class it was derived from and have total control over rules of how to access attributes\n",
    "    def display_species(self):\n",
    "        \n",
    "        return self.__species \n",
    "        \n",
    "class Dog(Animal):\n",
    "    \n",
    "    def __init__(self, name, species = 'Dog'): \n",
    "        super().__init__(name, species)\n",
    "        \n",
    "        \n",
    "#     def display_species(self):\n",
    "        \n",
    "#         return self.__species \n",
    "    \n",
    "    \n",
    "eyo = Dog('Eyo')\n",
    "eyo.display_species()"
   ]
  },
  {
   "cell_type": "markdown",
   "metadata": {},
   "source": [
    "## Classes as Attributes <br>\n",
    "<p>Classes can also be used as attributes within another class. This is useful in situations where you need to keep variables locally stored, instead of globally stored.</p>"
   ]
  },
  {
   "cell_type": "code",
   "execution_count": 128,
   "metadata": {},
   "outputs": [
    {
     "name": "stdout",
     "output_type": "stream",
     "text": [
      "{'year': 2023, 'make': 'Tesla', 'model': 'Model Y', 'battery': <__main__.Battery object at 0x7f9a90b5fd60>}\n",
      "2023 Tesla Model Y with 7.8 VOLTZ 20 cell battery\n"
     ]
    }
   ],
   "source": [
    "class Battery():\n",
    "    VOLTZ  = 7.8\n",
    "    \n",
    "    def __init__(self, cells):\n",
    "        self.cells = cells\n",
    "        \n",
    "        \n",
    "        \n",
    "class Car():\n",
    "    \n",
    "    def __init__(self, year, make, model, battery):\n",
    "        self.year = year\n",
    "        self.make = make\n",
    "        self.model = model\n",
    "        self.battery = battery \n",
    "        \n",
    "    def print_info(self):\n",
    "        print(f\"{self.year} {self.make} {self.model} with {self.battery.VOLTZ} VOLTZ {self.battery.cells} cell battery\")\n",
    "        \n",
    "        \n",
    "battery = Battery(20)\n",
    "\n",
    "tesla = Car(2023, 'Tesla', 'Model Y', battery)\n",
    "   \n",
    "print(tesla.__dict__)\n",
    "tesla.print_info()"
   ]
  },
  {
   "cell_type": "markdown",
   "metadata": {},
   "source": [
    "### Generators in Classes"
   ]
  },
  {
   "cell_type": "code",
   "execution_count": 131,
   "metadata": {},
   "outputs": [],
   "source": [
    "class Movie:\n",
    "    \n",
    "    def __init__(self):\n",
    "        self.genres = ['spooky', 'horror', 'thriller', 'adventure', 'comedy', 'action']\n",
    "        self.generator_object = self.yield_genres()\n",
    "        \n",
    "        \n",
    "    def yield_genres(self):\n",
    "        for genre in self.genres:\n",
    "            yield genre \n",
    "            \n",
    "    def show_genres(self):\n",
    "        try:\n",
    "            return next(self.generator_object)\n",
    "        except:\n",
    "            return \"No more genres to return\""
   ]
  },
  {
   "cell_type": "code",
   "execution_count": 132,
   "metadata": {},
   "outputs": [],
   "source": [
    "my_movie = Movie()"
   ]
  },
  {
   "cell_type": "code",
   "execution_count": 139,
   "metadata": {},
   "outputs": [
    {
     "data": {
      "text/plain": [
       "'No more genres to return'"
      ]
     },
     "execution_count": 139,
     "metadata": {},
     "output_type": "execute_result"
    }
   ],
   "source": [
    "my_movie.show_genres()"
   ]
  },
  {
   "cell_type": "code",
   "execution_count": null,
   "metadata": {},
   "outputs": [],
   "source": []
  },
  {
   "cell_type": "markdown",
   "metadata": {},
   "source": [
    "# Exercises"
   ]
  },
  {
   "cell_type": "markdown",
   "metadata": {},
   "source": [
    "### Exercise 1 - Turn the shopping cart program from last week into an object-oriented program\n",
    "\n",
    "The comments in the cell below are there as a guide for thinking about the problem. However, if you feel a different way is best for you and your own thought process, please do what feels best for you by all means."
   ]
  },
  {
   "cell_type": "code",
   "execution_count": null,
   "metadata": {},
   "outputs": [],
   "source": [
    "# Create a class called cart that retains items and has methods to add, remove, and show\n",
    "\n",
    "class Cart():\n",
    "    pass\n",
    "    "
   ]
  },
  {
   "cell_type": "markdown",
   "metadata": {},
   "source": [
    "### Exercise 1 Option 2 - Create A Video Game Character Class using Object-Oriented Programming\n",
    "<p>The character class should have the following attributes: character type (i.e. ogre, human, elf, etc), health points, attack points, weapons (list or dictionary). The class should also have the following methods to deplete health points, regain health points, add or remove weapons, and show character stats.\n",
    "    "
   ]
  },
  {
   "cell_type": "code",
   "execution_count": null,
   "metadata": {},
   "outputs": [],
   "source": [
    "\n",
    "class Character():\n",
    "    pass\n"
   ]
  },
  {
   "cell_type": "markdown",
   "metadata": {},
   "source": [
    "### Exercise 2 - Write a Python class which has two methods get_String and print_String. get_String accept a string from the user and print_String print the string in upper case"
   ]
  },
  {
   "cell_type": "code",
   "execution_count": null,
   "metadata": {},
   "outputs": [],
   "source": []
  }
 ],
 "metadata": {
  "kernelspec": {
   "display_name": "Python 3 (ipykernel)",
   "language": "python",
   "name": "python3"
  },
  "language_info": {
   "codemirror_mode": {
    "name": "ipython",
    "version": 3
   },
   "file_extension": ".py",
   "mimetype": "text/x-python",
   "name": "python",
   "nbconvert_exporter": "python",
   "pygments_lexer": "ipython3",
   "version": "3.10.9"
  }
 },
 "nbformat": 4,
 "nbformat_minor": 2
}
